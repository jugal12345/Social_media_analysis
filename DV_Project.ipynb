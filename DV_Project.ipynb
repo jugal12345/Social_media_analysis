{
  "cells": [
    {
      "cell_type": "markdown",
      "metadata": {
        "id": "view-in-github",
        "colab_type": "text"
      },
      "source": [
        "<a href=\"https://colab.research.google.com/github/jugal12345/Social_media_analysis/blob/main/DV_Project.ipynb\" target=\"_parent\"><img src=\"https://colab.research.google.com/assets/colab-badge.svg\" alt=\"Open In Colab\"/></a>"
      ]
    },
    {
      "cell_type": "code",
      "execution_count": null,
      "metadata": {
        "colab": {
          "base_uri": "https://localhost:8080/"
        },
        "id": "QgUotBtFURxE",
        "outputId": "d761eaf6-7263-4df0-8bba-61df3eae8669"
      },
      "outputs": [
        {
          "output_type": "stream",
          "name": "stdout",
          "text": [
            "Collecting nlpaug\n",
            "  Downloading nlpaug-1.1.10-py3-none-any.whl (410 kB)\n",
            "\u001b[?25l\r\u001b[K     |▉                               | 10 kB 16.4 MB/s eta 0:00:01\r\u001b[K     |█▋                              | 20 kB 15.3 MB/s eta 0:00:01\r\u001b[K     |██▍                             | 30 kB 9.8 MB/s eta 0:00:01\r\u001b[K     |███▏                            | 40 kB 8.3 MB/s eta 0:00:01\r\u001b[K     |████                            | 51 kB 4.5 MB/s eta 0:00:01\r\u001b[K     |████▉                           | 61 kB 5.2 MB/s eta 0:00:01\r\u001b[K     |█████▋                          | 71 kB 5.7 MB/s eta 0:00:01\r\u001b[K     |██████▍                         | 81 kB 4.5 MB/s eta 0:00:01\r\u001b[K     |███████▏                        | 92 kB 5.0 MB/s eta 0:00:01\r\u001b[K     |████████                        | 102 kB 5.5 MB/s eta 0:00:01\r\u001b[K     |████████▊                       | 112 kB 5.5 MB/s eta 0:00:01\r\u001b[K     |█████████▋                      | 122 kB 5.5 MB/s eta 0:00:01\r\u001b[K     |██████████▍                     | 133 kB 5.5 MB/s eta 0:00:01\r\u001b[K     |███████████▏                    | 143 kB 5.5 MB/s eta 0:00:01\r\u001b[K     |████████████                    | 153 kB 5.5 MB/s eta 0:00:01\r\u001b[K     |████████████▊                   | 163 kB 5.5 MB/s eta 0:00:01\r\u001b[K     |█████████████▋                  | 174 kB 5.5 MB/s eta 0:00:01\r\u001b[K     |██████████████▍                 | 184 kB 5.5 MB/s eta 0:00:01\r\u001b[K     |███████████████▏                | 194 kB 5.5 MB/s eta 0:00:01\r\u001b[K     |████████████████                | 204 kB 5.5 MB/s eta 0:00:01\r\u001b[K     |████████████████▊               | 215 kB 5.5 MB/s eta 0:00:01\r\u001b[K     |█████████████████▌              | 225 kB 5.5 MB/s eta 0:00:01\r\u001b[K     |██████████████████▍             | 235 kB 5.5 MB/s eta 0:00:01\r\u001b[K     |███████████████████▏            | 245 kB 5.5 MB/s eta 0:00:01\r\u001b[K     |████████████████████            | 256 kB 5.5 MB/s eta 0:00:01\r\u001b[K     |████████████████████▊           | 266 kB 5.5 MB/s eta 0:00:01\r\u001b[K     |█████████████████████▌          | 276 kB 5.5 MB/s eta 0:00:01\r\u001b[K     |██████████████████████▎         | 286 kB 5.5 MB/s eta 0:00:01\r\u001b[K     |███████████████████████▏        | 296 kB 5.5 MB/s eta 0:00:01\r\u001b[K     |████████████████████████        | 307 kB 5.5 MB/s eta 0:00:01\r\u001b[K     |████████████████████████▊       | 317 kB 5.5 MB/s eta 0:00:01\r\u001b[K     |█████████████████████████▌      | 327 kB 5.5 MB/s eta 0:00:01\r\u001b[K     |██████████████████████████▎     | 337 kB 5.5 MB/s eta 0:00:01\r\u001b[K     |███████████████████████████▏    | 348 kB 5.5 MB/s eta 0:00:01\r\u001b[K     |████████████████████████████    | 358 kB 5.5 MB/s eta 0:00:01\r\u001b[K     |████████████████████████████▊   | 368 kB 5.5 MB/s eta 0:00:01\r\u001b[K     |█████████████████████████████▌  | 378 kB 5.5 MB/s eta 0:00:01\r\u001b[K     |██████████████████████████████▎ | 389 kB 5.5 MB/s eta 0:00:01\r\u001b[K     |███████████████████████████████ | 399 kB 5.5 MB/s eta 0:00:01\r\u001b[K     |████████████████████████████████| 409 kB 5.5 MB/s eta 0:00:01\r\u001b[K     |████████████████████████████████| 410 kB 5.5 MB/s \n",
            "\u001b[?25hRequirement already satisfied: requests>=2.22.0 in /usr/local/lib/python3.7/dist-packages (from nlpaug) (2.23.0)\n",
            "Requirement already satisfied: pandas>=1.2.0 in /usr/local/lib/python3.7/dist-packages (from nlpaug) (1.3.5)\n",
            "Requirement already satisfied: numpy>=1.16.2 in /usr/local/lib/python3.7/dist-packages (from nlpaug) (1.21.6)\n",
            "Requirement already satisfied: python-dateutil>=2.7.3 in /usr/local/lib/python3.7/dist-packages (from pandas>=1.2.0->nlpaug) (2.8.2)\n",
            "Requirement already satisfied: pytz>=2017.3 in /usr/local/lib/python3.7/dist-packages (from pandas>=1.2.0->nlpaug) (2022.1)\n",
            "Requirement already satisfied: six>=1.5 in /usr/local/lib/python3.7/dist-packages (from python-dateutil>=2.7.3->pandas>=1.2.0->nlpaug) (1.15.0)\n",
            "Requirement already satisfied: urllib3!=1.25.0,!=1.25.1,<1.26,>=1.21.1 in /usr/local/lib/python3.7/dist-packages (from requests>=2.22.0->nlpaug) (1.24.3)\n",
            "Requirement already satisfied: certifi>=2017.4.17 in /usr/local/lib/python3.7/dist-packages (from requests>=2.22.0->nlpaug) (2021.10.8)\n",
            "Requirement already satisfied: chardet<4,>=3.0.2 in /usr/local/lib/python3.7/dist-packages (from requests>=2.22.0->nlpaug) (3.0.4)\n",
            "Requirement already satisfied: idna<3,>=2.5 in /usr/local/lib/python3.7/dist-packages (from requests>=2.22.0->nlpaug) (2.10)\n",
            "Installing collected packages: nlpaug\n",
            "Successfully installed nlpaug-1.1.10\n"
          ]
        }
      ],
      "source": [
        "pip install nlpaug"
      ]
    },
    {
      "cell_type": "code",
      "execution_count": null,
      "metadata": {
        "colab": {
          "base_uri": "https://localhost:8080/"
        },
        "id": "5WzYCaICWz96",
        "outputId": "3f5f4f93-6216-4f2e-d3a5-2d1628d2c3f2"
      },
      "outputs": [
        {
          "output_type": "stream",
          "name": "stdout",
          "text": [
            "[nltk_data] Downloading package wordnet to /root/nltk_data...\n",
            "[nltk_data]   Package wordnet is already up-to-date!\n",
            "[nltk_data] Downloading package stopwords to /root/nltk_data...\n",
            "[nltk_data]   Package stopwords is already up-to-date!\n"
          ]
        }
      ],
      "source": [
        "import numpy as np\n",
        "import pandas as pd \n",
        "import matplotlib.pyplot as plt\n",
        "import seaborn as sns\n",
        "\n",
        "import warnings\n",
        "warnings.filterwarnings(\"ignore\")\n",
        "\n",
        "import re\n",
        "from bs4 import BeautifulSoup\n",
        "from tqdm import tqdm\n",
        "from nltk.stem import WordNetLemmatizer\n",
        "import nltk\n",
        "from nltk.corpus import stopwords\n",
        "nltk.download('wordnet')\n",
        "nltk.download('stopwords')\n",
        "import re\n",
        "from nltk.stem import PorterStemmer\n",
        "from nltk.tokenize import TweetTokenizer\n",
        "import string\n",
        "\n",
        "from sklearn.model_selection import train_test_split\n",
        "from sklearn.metrics import accuracy_score,f1_score, confusion_matrix\n",
        "\n",
        "import nlpaug.augmenter.char as nac\n",
        "import nlpaug.augmenter.word as naw\n",
        "import nlpaug.augmenter.sentence as nas\n",
        "import nlpaug.flow as nafc\n",
        "\n",
        "from nlpaug.util import Action"
      ]
    },
    {
      "cell_type": "code",
      "execution_count": null,
      "metadata": {
        "id": "MxFfiQ3yW2Wf"
      },
      "outputs": [],
      "source": [
        "df = pd.read_csv('/content/political_social_media.csv',encoding=\"ISO-8859-1\")"
      ]
    },
    {
      "cell_type": "code",
      "execution_count": null,
      "metadata": {
        "colab": {
          "base_uri": "https://localhost:8080/",
          "height": 560
        },
        "id": "fxnIDBqbXDxg",
        "outputId": "9d8da1d6-9633-4a13-d82e-0837b07fe27a"
      },
      "outputs": [
        {
          "output_type": "execute_result",
          "data": {
            "text/plain": [
              "   _unit_id  _golden _unit_state  _trusted_judgments _last_judgment_at  \\\n",
              "0         1    False   finalized                   1  08-04-2015 21:17   \n",
              "1         2    False   finalized                   1  08-04-2015 21:20   \n",
              "2         3    False   finalized                   1  08-04-2015 21:14   \n",
              "3         4    False   finalized                   1  08-04-2015 21:08   \n",
              "4         5    False   finalized                   1  08-04-2015 21:26   \n",
              "\n",
              "   audience  audience:confidence      bias  bias:confidence  message  ...  \\\n",
              "0  national                  1.0  partisan              1.0   policy  ...   \n",
              "1  national                  1.0  partisan              1.0   attack  ...   \n",
              "2  national                  1.0   neutral              1.0  support  ...   \n",
              "3  national                  1.0   neutral              1.0   policy  ...   \n",
              "4  national                  1.0  partisan              1.0   policy  ...   \n",
              "\n",
              "   orig__golden  audience_gold  bias_gold    bioid  \\\n",
              "0           NaN            NaN        NaN  R000596   \n",
              "1           NaN            NaN        NaN  M000355   \n",
              "2           NaN            NaN        NaN  S001180   \n",
              "3           NaN            NaN        NaN  C000880   \n",
              "4           NaN            NaN        NaN  U000038   \n",
              "\n",
              "                                               embed        id  \\\n",
              "0  <blockquote class=\"twitter-tweet\" width=\"450\">...  3.83E+17   \n",
              "1  <blockquote class=\"twitter-tweet\" width=\"450\">...  3.11E+17   \n",
              "2  <blockquote class=\"twitter-tweet\" width=\"450\">...  3.39E+17   \n",
              "3  <blockquote class=\"twitter-tweet\" width=\"450\">...  2.99E+17   \n",
              "4  <blockquote class=\"twitter-tweet\" width=\"450\">...  4.08E+17   \n",
              "\n",
              "                                              label message_gold   source  \\\n",
              "0    From: Trey Radel (Representative from Florida)          NaN  twitter   \n",
              "1     From: Mitch McConnell (Senator from Kentucky)          NaN  twitter   \n",
              "2  From: Kurt Schrader (Representative from Oregon)          NaN  twitter   \n",
              "3          From: Michael Crapo (Senator from Idaho)          NaN  twitter   \n",
              "4          From: Mark Udall (Senator from Colorado)          NaN  twitter   \n",
              "\n",
              "                                                text  \n",
              "0  RT @nowthisnews: Rep. Trey Radel (R- #FL) slam...  \n",
              "1  VIDEO - #Obamacare:  Full of Higher Costs and ...  \n",
              "2  Please join me today in remembering our fallen...  \n",
              "3  RT @SenatorLeahy: 1st step toward Senate debat...  \n",
              "4  .@amazon delivery #drones show need to update ...  \n",
              "\n",
              "[5 rows x 21 columns]"
            ],
            "text/html": [
              "\n",
              "  <div id=\"df-c0cc1702-e03f-4f3f-9376-1bbe4a5db3c5\">\n",
              "    <div class=\"colab-df-container\">\n",
              "      <div>\n",
              "<style scoped>\n",
              "    .dataframe tbody tr th:only-of-type {\n",
              "        vertical-align: middle;\n",
              "    }\n",
              "\n",
              "    .dataframe tbody tr th {\n",
              "        vertical-align: top;\n",
              "    }\n",
              "\n",
              "    .dataframe thead th {\n",
              "        text-align: right;\n",
              "    }\n",
              "</style>\n",
              "<table border=\"1\" class=\"dataframe\">\n",
              "  <thead>\n",
              "    <tr style=\"text-align: right;\">\n",
              "      <th></th>\n",
              "      <th>_unit_id</th>\n",
              "      <th>_golden</th>\n",
              "      <th>_unit_state</th>\n",
              "      <th>_trusted_judgments</th>\n",
              "      <th>_last_judgment_at</th>\n",
              "      <th>audience</th>\n",
              "      <th>audience:confidence</th>\n",
              "      <th>bias</th>\n",
              "      <th>bias:confidence</th>\n",
              "      <th>message</th>\n",
              "      <th>...</th>\n",
              "      <th>orig__golden</th>\n",
              "      <th>audience_gold</th>\n",
              "      <th>bias_gold</th>\n",
              "      <th>bioid</th>\n",
              "      <th>embed</th>\n",
              "      <th>id</th>\n",
              "      <th>label</th>\n",
              "      <th>message_gold</th>\n",
              "      <th>source</th>\n",
              "      <th>text</th>\n",
              "    </tr>\n",
              "  </thead>\n",
              "  <tbody>\n",
              "    <tr>\n",
              "      <th>0</th>\n",
              "      <td>1</td>\n",
              "      <td>False</td>\n",
              "      <td>finalized</td>\n",
              "      <td>1</td>\n",
              "      <td>08-04-2015 21:17</td>\n",
              "      <td>national</td>\n",
              "      <td>1.0</td>\n",
              "      <td>partisan</td>\n",
              "      <td>1.0</td>\n",
              "      <td>policy</td>\n",
              "      <td>...</td>\n",
              "      <td>NaN</td>\n",
              "      <td>NaN</td>\n",
              "      <td>NaN</td>\n",
              "      <td>R000596</td>\n",
              "      <td>&lt;blockquote class=\"twitter-tweet\" width=\"450\"&gt;...</td>\n",
              "      <td>3.83E+17</td>\n",
              "      <td>From: Trey Radel (Representative from Florida)</td>\n",
              "      <td>NaN</td>\n",
              "      <td>twitter</td>\n",
              "      <td>RT @nowthisnews: Rep. Trey Radel (R- #FL) slam...</td>\n",
              "    </tr>\n",
              "    <tr>\n",
              "      <th>1</th>\n",
              "      <td>2</td>\n",
              "      <td>False</td>\n",
              "      <td>finalized</td>\n",
              "      <td>1</td>\n",
              "      <td>08-04-2015 21:20</td>\n",
              "      <td>national</td>\n",
              "      <td>1.0</td>\n",
              "      <td>partisan</td>\n",
              "      <td>1.0</td>\n",
              "      <td>attack</td>\n",
              "      <td>...</td>\n",
              "      <td>NaN</td>\n",
              "      <td>NaN</td>\n",
              "      <td>NaN</td>\n",
              "      <td>M000355</td>\n",
              "      <td>&lt;blockquote class=\"twitter-tweet\" width=\"450\"&gt;...</td>\n",
              "      <td>3.11E+17</td>\n",
              "      <td>From: Mitch McConnell (Senator from Kentucky)</td>\n",
              "      <td>NaN</td>\n",
              "      <td>twitter</td>\n",
              "      <td>VIDEO - #Obamacare:  Full of Higher Costs and ...</td>\n",
              "    </tr>\n",
              "    <tr>\n",
              "      <th>2</th>\n",
              "      <td>3</td>\n",
              "      <td>False</td>\n",
              "      <td>finalized</td>\n",
              "      <td>1</td>\n",
              "      <td>08-04-2015 21:14</td>\n",
              "      <td>national</td>\n",
              "      <td>1.0</td>\n",
              "      <td>neutral</td>\n",
              "      <td>1.0</td>\n",
              "      <td>support</td>\n",
              "      <td>...</td>\n",
              "      <td>NaN</td>\n",
              "      <td>NaN</td>\n",
              "      <td>NaN</td>\n",
              "      <td>S001180</td>\n",
              "      <td>&lt;blockquote class=\"twitter-tweet\" width=\"450\"&gt;...</td>\n",
              "      <td>3.39E+17</td>\n",
              "      <td>From: Kurt Schrader (Representative from Oregon)</td>\n",
              "      <td>NaN</td>\n",
              "      <td>twitter</td>\n",
              "      <td>Please join me today in remembering our fallen...</td>\n",
              "    </tr>\n",
              "    <tr>\n",
              "      <th>3</th>\n",
              "      <td>4</td>\n",
              "      <td>False</td>\n",
              "      <td>finalized</td>\n",
              "      <td>1</td>\n",
              "      <td>08-04-2015 21:08</td>\n",
              "      <td>national</td>\n",
              "      <td>1.0</td>\n",
              "      <td>neutral</td>\n",
              "      <td>1.0</td>\n",
              "      <td>policy</td>\n",
              "      <td>...</td>\n",
              "      <td>NaN</td>\n",
              "      <td>NaN</td>\n",
              "      <td>NaN</td>\n",
              "      <td>C000880</td>\n",
              "      <td>&lt;blockquote class=\"twitter-tweet\" width=\"450\"&gt;...</td>\n",
              "      <td>2.99E+17</td>\n",
              "      <td>From: Michael Crapo (Senator from Idaho)</td>\n",
              "      <td>NaN</td>\n",
              "      <td>twitter</td>\n",
              "      <td>RT @SenatorLeahy: 1st step toward Senate debat...</td>\n",
              "    </tr>\n",
              "    <tr>\n",
              "      <th>4</th>\n",
              "      <td>5</td>\n",
              "      <td>False</td>\n",
              "      <td>finalized</td>\n",
              "      <td>1</td>\n",
              "      <td>08-04-2015 21:26</td>\n",
              "      <td>national</td>\n",
              "      <td>1.0</td>\n",
              "      <td>partisan</td>\n",
              "      <td>1.0</td>\n",
              "      <td>policy</td>\n",
              "      <td>...</td>\n",
              "      <td>NaN</td>\n",
              "      <td>NaN</td>\n",
              "      <td>NaN</td>\n",
              "      <td>U000038</td>\n",
              "      <td>&lt;blockquote class=\"twitter-tweet\" width=\"450\"&gt;...</td>\n",
              "      <td>4.08E+17</td>\n",
              "      <td>From: Mark Udall (Senator from Colorado)</td>\n",
              "      <td>NaN</td>\n",
              "      <td>twitter</td>\n",
              "      <td>.@amazon delivery #drones show need to update ...</td>\n",
              "    </tr>\n",
              "  </tbody>\n",
              "</table>\n",
              "<p>5 rows × 21 columns</p>\n",
              "</div>\n",
              "      <button class=\"colab-df-convert\" onclick=\"convertToInteractive('df-c0cc1702-e03f-4f3f-9376-1bbe4a5db3c5')\"\n",
              "              title=\"Convert this dataframe to an interactive table.\"\n",
              "              style=\"display:none;\">\n",
              "        \n",
              "  <svg xmlns=\"http://www.w3.org/2000/svg\" height=\"24px\"viewBox=\"0 0 24 24\"\n",
              "       width=\"24px\">\n",
              "    <path d=\"M0 0h24v24H0V0z\" fill=\"none\"/>\n",
              "    <path d=\"M18.56 5.44l.94 2.06.94-2.06 2.06-.94-2.06-.94-.94-2.06-.94 2.06-2.06.94zm-11 1L8.5 8.5l.94-2.06 2.06-.94-2.06-.94L8.5 2.5l-.94 2.06-2.06.94zm10 10l.94 2.06.94-2.06 2.06-.94-2.06-.94-.94-2.06-.94 2.06-2.06.94z\"/><path d=\"M17.41 7.96l-1.37-1.37c-.4-.4-.92-.59-1.43-.59-.52 0-1.04.2-1.43.59L10.3 9.45l-7.72 7.72c-.78.78-.78 2.05 0 2.83L4 21.41c.39.39.9.59 1.41.59.51 0 1.02-.2 1.41-.59l7.78-7.78 2.81-2.81c.8-.78.8-2.07 0-2.86zM5.41 20L4 18.59l7.72-7.72 1.47 1.35L5.41 20z\"/>\n",
              "  </svg>\n",
              "      </button>\n",
              "      \n",
              "  <style>\n",
              "    .colab-df-container {\n",
              "      display:flex;\n",
              "      flex-wrap:wrap;\n",
              "      gap: 12px;\n",
              "    }\n",
              "\n",
              "    .colab-df-convert {\n",
              "      background-color: #E8F0FE;\n",
              "      border: none;\n",
              "      border-radius: 50%;\n",
              "      cursor: pointer;\n",
              "      display: none;\n",
              "      fill: #1967D2;\n",
              "      height: 32px;\n",
              "      padding: 0 0 0 0;\n",
              "      width: 32px;\n",
              "    }\n",
              "\n",
              "    .colab-df-convert:hover {\n",
              "      background-color: #E2EBFA;\n",
              "      box-shadow: 0px 1px 2px rgba(60, 64, 67, 0.3), 0px 1px 3px 1px rgba(60, 64, 67, 0.15);\n",
              "      fill: #174EA6;\n",
              "    }\n",
              "\n",
              "    [theme=dark] .colab-df-convert {\n",
              "      background-color: #3B4455;\n",
              "      fill: #D2E3FC;\n",
              "    }\n",
              "\n",
              "    [theme=dark] .colab-df-convert:hover {\n",
              "      background-color: #434B5C;\n",
              "      box-shadow: 0px 1px 3px 1px rgba(0, 0, 0, 0.15);\n",
              "      filter: drop-shadow(0px 1px 2px rgba(0, 0, 0, 0.3));\n",
              "      fill: #FFFFFF;\n",
              "    }\n",
              "  </style>\n",
              "\n",
              "      <script>\n",
              "        const buttonEl =\n",
              "          document.querySelector('#df-c0cc1702-e03f-4f3f-9376-1bbe4a5db3c5 button.colab-df-convert');\n",
              "        buttonEl.style.display =\n",
              "          google.colab.kernel.accessAllowed ? 'block' : 'none';\n",
              "\n",
              "        async function convertToInteractive(key) {\n",
              "          const element = document.querySelector('#df-c0cc1702-e03f-4f3f-9376-1bbe4a5db3c5');\n",
              "          const dataTable =\n",
              "            await google.colab.kernel.invokeFunction('convertToInteractive',\n",
              "                                                     [key], {});\n",
              "          if (!dataTable) return;\n",
              "\n",
              "          const docLinkHtml = 'Like what you see? Visit the ' +\n",
              "            '<a target=\"_blank\" href=https://colab.research.google.com/notebooks/data_table.ipynb>data table notebook</a>'\n",
              "            + ' to learn more about interactive tables.';\n",
              "          element.innerHTML = '';\n",
              "          dataTable['output_type'] = 'display_data';\n",
              "          await google.colab.output.renderOutput(dataTable, element);\n",
              "          const docLink = document.createElement('div');\n",
              "          docLink.innerHTML = docLinkHtml;\n",
              "          element.appendChild(docLink);\n",
              "        }\n",
              "      </script>\n",
              "    </div>\n",
              "  </div>\n",
              "  "
            ]
          },
          "metadata": {},
          "execution_count": 7
        }
      ],
      "source": [
        "df.head()"
      ]
    },
    {
      "cell_type": "code",
      "execution_count": null,
      "metadata": {
        "colab": {
          "base_uri": "https://localhost:8080/",
          "height": 530
        },
        "id": "crOe5Kz1XIRj",
        "outputId": "4f4bba17-69e6-490a-e6f7-1d951e8bbf6f"
      },
      "outputs": [
        {
          "output_type": "execute_result",
          "data": {
            "text/plain": [
              "   _unit_id  _golden _unit_state  _trusted_judgments _last_judgment_at  \\\n",
              "0         1    False   finalized                   1  08-04-2015 21:17   \n",
              "1         2    False   finalized                   1  08-04-2015 21:20   \n",
              "2         3    False   finalized                   1  08-04-2015 21:14   \n",
              "3         4    False   finalized                   1  08-04-2015 21:08   \n",
              "4         5    False   finalized                   1  08-04-2015 21:26   \n",
              "\n",
              "   audience  audience:confidence  bias  bias:confidence  message  \\\n",
              "0         1                  1.0     1              1.0        1   \n",
              "1         1                  1.0     1              1.0        2   \n",
              "2         1                  1.0     2              1.0        3   \n",
              "3         1                  1.0     2              1.0        1   \n",
              "4         1                  1.0     1              1.0        1   \n",
              "\n",
              "   message:confidence    bioid  \\\n",
              "0                 1.0  R000596   \n",
              "1                 1.0  M000355   \n",
              "2                 1.0  S001180   \n",
              "3                 1.0  C000880   \n",
              "4                 1.0  U000038   \n",
              "\n",
              "                                               embed        id  \\\n",
              "0  <blockquote class=\"twitter-tweet\" width=\"450\">...  3.83E+17   \n",
              "1  <blockquote class=\"twitter-tweet\" width=\"450\">...  3.11E+17   \n",
              "2  <blockquote class=\"twitter-tweet\" width=\"450\">...  3.39E+17   \n",
              "3  <blockquote class=\"twitter-tweet\" width=\"450\">...  2.99E+17   \n",
              "4  <blockquote class=\"twitter-tweet\" width=\"450\">...  4.08E+17   \n",
              "\n",
              "                                              label   source  \\\n",
              "0    From: Trey Radel (Representative from Florida)  twitter   \n",
              "1     From: Mitch McConnell (Senator from Kentucky)  twitter   \n",
              "2  From: Kurt Schrader (Representative from Oregon)  twitter   \n",
              "3          From: Michael Crapo (Senator from Idaho)  twitter   \n",
              "4          From: Mark Udall (Senator from Colorado)  twitter   \n",
              "\n",
              "                                                text  \n",
              "0  RT @nowthisnews: Rep. Trey Radel (R- #FL) slam...  \n",
              "1  VIDEO - #Obamacare:  Full of Higher Costs and ...  \n",
              "2  Please join me today in remembering our fallen...  \n",
              "3  RT @SenatorLeahy: 1st step toward Senate debat...  \n",
              "4  .@amazon delivery #drones show need to update ...  "
            ],
            "text/html": [
              "\n",
              "  <div id=\"df-8e07a64d-1689-4376-89d4-9a7b2aaf6e0d\">\n",
              "    <div class=\"colab-df-container\">\n",
              "      <div>\n",
              "<style scoped>\n",
              "    .dataframe tbody tr th:only-of-type {\n",
              "        vertical-align: middle;\n",
              "    }\n",
              "\n",
              "    .dataframe tbody tr th {\n",
              "        vertical-align: top;\n",
              "    }\n",
              "\n",
              "    .dataframe thead th {\n",
              "        text-align: right;\n",
              "    }\n",
              "</style>\n",
              "<table border=\"1\" class=\"dataframe\">\n",
              "  <thead>\n",
              "    <tr style=\"text-align: right;\">\n",
              "      <th></th>\n",
              "      <th>_unit_id</th>\n",
              "      <th>_golden</th>\n",
              "      <th>_unit_state</th>\n",
              "      <th>_trusted_judgments</th>\n",
              "      <th>_last_judgment_at</th>\n",
              "      <th>audience</th>\n",
              "      <th>audience:confidence</th>\n",
              "      <th>bias</th>\n",
              "      <th>bias:confidence</th>\n",
              "      <th>message</th>\n",
              "      <th>message:confidence</th>\n",
              "      <th>bioid</th>\n",
              "      <th>embed</th>\n",
              "      <th>id</th>\n",
              "      <th>label</th>\n",
              "      <th>source</th>\n",
              "      <th>text</th>\n",
              "    </tr>\n",
              "  </thead>\n",
              "  <tbody>\n",
              "    <tr>\n",
              "      <th>0</th>\n",
              "      <td>1</td>\n",
              "      <td>False</td>\n",
              "      <td>finalized</td>\n",
              "      <td>1</td>\n",
              "      <td>08-04-2015 21:17</td>\n",
              "      <td>1</td>\n",
              "      <td>1.0</td>\n",
              "      <td>1</td>\n",
              "      <td>1.0</td>\n",
              "      <td>1</td>\n",
              "      <td>1.0</td>\n",
              "      <td>R000596</td>\n",
              "      <td>&lt;blockquote class=\"twitter-tweet\" width=\"450\"&gt;...</td>\n",
              "      <td>3.83E+17</td>\n",
              "      <td>From: Trey Radel (Representative from Florida)</td>\n",
              "      <td>twitter</td>\n",
              "      <td>RT @nowthisnews: Rep. Trey Radel (R- #FL) slam...</td>\n",
              "    </tr>\n",
              "    <tr>\n",
              "      <th>1</th>\n",
              "      <td>2</td>\n",
              "      <td>False</td>\n",
              "      <td>finalized</td>\n",
              "      <td>1</td>\n",
              "      <td>08-04-2015 21:20</td>\n",
              "      <td>1</td>\n",
              "      <td>1.0</td>\n",
              "      <td>1</td>\n",
              "      <td>1.0</td>\n",
              "      <td>2</td>\n",
              "      <td>1.0</td>\n",
              "      <td>M000355</td>\n",
              "      <td>&lt;blockquote class=\"twitter-tweet\" width=\"450\"&gt;...</td>\n",
              "      <td>3.11E+17</td>\n",
              "      <td>From: Mitch McConnell (Senator from Kentucky)</td>\n",
              "      <td>twitter</td>\n",
              "      <td>VIDEO - #Obamacare:  Full of Higher Costs and ...</td>\n",
              "    </tr>\n",
              "    <tr>\n",
              "      <th>2</th>\n",
              "      <td>3</td>\n",
              "      <td>False</td>\n",
              "      <td>finalized</td>\n",
              "      <td>1</td>\n",
              "      <td>08-04-2015 21:14</td>\n",
              "      <td>1</td>\n",
              "      <td>1.0</td>\n",
              "      <td>2</td>\n",
              "      <td>1.0</td>\n",
              "      <td>3</td>\n",
              "      <td>1.0</td>\n",
              "      <td>S001180</td>\n",
              "      <td>&lt;blockquote class=\"twitter-tweet\" width=\"450\"&gt;...</td>\n",
              "      <td>3.39E+17</td>\n",
              "      <td>From: Kurt Schrader (Representative from Oregon)</td>\n",
              "      <td>twitter</td>\n",
              "      <td>Please join me today in remembering our fallen...</td>\n",
              "    </tr>\n",
              "    <tr>\n",
              "      <th>3</th>\n",
              "      <td>4</td>\n",
              "      <td>False</td>\n",
              "      <td>finalized</td>\n",
              "      <td>1</td>\n",
              "      <td>08-04-2015 21:08</td>\n",
              "      <td>1</td>\n",
              "      <td>1.0</td>\n",
              "      <td>2</td>\n",
              "      <td>1.0</td>\n",
              "      <td>1</td>\n",
              "      <td>1.0</td>\n",
              "      <td>C000880</td>\n",
              "      <td>&lt;blockquote class=\"twitter-tweet\" width=\"450\"&gt;...</td>\n",
              "      <td>2.99E+17</td>\n",
              "      <td>From: Michael Crapo (Senator from Idaho)</td>\n",
              "      <td>twitter</td>\n",
              "      <td>RT @SenatorLeahy: 1st step toward Senate debat...</td>\n",
              "    </tr>\n",
              "    <tr>\n",
              "      <th>4</th>\n",
              "      <td>5</td>\n",
              "      <td>False</td>\n",
              "      <td>finalized</td>\n",
              "      <td>1</td>\n",
              "      <td>08-04-2015 21:26</td>\n",
              "      <td>1</td>\n",
              "      <td>1.0</td>\n",
              "      <td>1</td>\n",
              "      <td>1.0</td>\n",
              "      <td>1</td>\n",
              "      <td>1.0</td>\n",
              "      <td>U000038</td>\n",
              "      <td>&lt;blockquote class=\"twitter-tweet\" width=\"450\"&gt;...</td>\n",
              "      <td>4.08E+17</td>\n",
              "      <td>From: Mark Udall (Senator from Colorado)</td>\n",
              "      <td>twitter</td>\n",
              "      <td>.@amazon delivery #drones show need to update ...</td>\n",
              "    </tr>\n",
              "  </tbody>\n",
              "</table>\n",
              "</div>\n",
              "      <button class=\"colab-df-convert\" onclick=\"convertToInteractive('df-8e07a64d-1689-4376-89d4-9a7b2aaf6e0d')\"\n",
              "              title=\"Convert this dataframe to an interactive table.\"\n",
              "              style=\"display:none;\">\n",
              "        \n",
              "  <svg xmlns=\"http://www.w3.org/2000/svg\" height=\"24px\"viewBox=\"0 0 24 24\"\n",
              "       width=\"24px\">\n",
              "    <path d=\"M0 0h24v24H0V0z\" fill=\"none\"/>\n",
              "    <path d=\"M18.56 5.44l.94 2.06.94-2.06 2.06-.94-2.06-.94-.94-2.06-.94 2.06-2.06.94zm-11 1L8.5 8.5l.94-2.06 2.06-.94-2.06-.94L8.5 2.5l-.94 2.06-2.06.94zm10 10l.94 2.06.94-2.06 2.06-.94-2.06-.94-.94-2.06-.94 2.06-2.06.94z\"/><path d=\"M17.41 7.96l-1.37-1.37c-.4-.4-.92-.59-1.43-.59-.52 0-1.04.2-1.43.59L10.3 9.45l-7.72 7.72c-.78.78-.78 2.05 0 2.83L4 21.41c.39.39.9.59 1.41.59.51 0 1.02-.2 1.41-.59l7.78-7.78 2.81-2.81c.8-.78.8-2.07 0-2.86zM5.41 20L4 18.59l7.72-7.72 1.47 1.35L5.41 20z\"/>\n",
              "  </svg>\n",
              "      </button>\n",
              "      \n",
              "  <style>\n",
              "    .colab-df-container {\n",
              "      display:flex;\n",
              "      flex-wrap:wrap;\n",
              "      gap: 12px;\n",
              "    }\n",
              "\n",
              "    .colab-df-convert {\n",
              "      background-color: #E8F0FE;\n",
              "      border: none;\n",
              "      border-radius: 50%;\n",
              "      cursor: pointer;\n",
              "      display: none;\n",
              "      fill: #1967D2;\n",
              "      height: 32px;\n",
              "      padding: 0 0 0 0;\n",
              "      width: 32px;\n",
              "    }\n",
              "\n",
              "    .colab-df-convert:hover {\n",
              "      background-color: #E2EBFA;\n",
              "      box-shadow: 0px 1px 2px rgba(60, 64, 67, 0.3), 0px 1px 3px 1px rgba(60, 64, 67, 0.15);\n",
              "      fill: #174EA6;\n",
              "    }\n",
              "\n",
              "    [theme=dark] .colab-df-convert {\n",
              "      background-color: #3B4455;\n",
              "      fill: #D2E3FC;\n",
              "    }\n",
              "\n",
              "    [theme=dark] .colab-df-convert:hover {\n",
              "      background-color: #434B5C;\n",
              "      box-shadow: 0px 1px 3px 1px rgba(0, 0, 0, 0.15);\n",
              "      filter: drop-shadow(0px 1px 2px rgba(0, 0, 0, 0.3));\n",
              "      fill: #FFFFFF;\n",
              "    }\n",
              "  </style>\n",
              "\n",
              "      <script>\n",
              "        const buttonEl =\n",
              "          document.querySelector('#df-8e07a64d-1689-4376-89d4-9a7b2aaf6e0d button.colab-df-convert');\n",
              "        buttonEl.style.display =\n",
              "          google.colab.kernel.accessAllowed ? 'block' : 'none';\n",
              "\n",
              "        async function convertToInteractive(key) {\n",
              "          const element = document.querySelector('#df-8e07a64d-1689-4376-89d4-9a7b2aaf6e0d');\n",
              "          const dataTable =\n",
              "            await google.colab.kernel.invokeFunction('convertToInteractive',\n",
              "                                                     [key], {});\n",
              "          if (!dataTable) return;\n",
              "\n",
              "          const docLinkHtml = 'Like what you see? Visit the ' +\n",
              "            '<a target=\"_blank\" href=https://colab.research.google.com/notebooks/data_table.ipynb>data table notebook</a>'\n",
              "            + ' to learn more about interactive tables.';\n",
              "          element.innerHTML = '';\n",
              "          dataTable['output_type'] = 'display_data';\n",
              "          await google.colab.output.renderOutput(dataTable, element);\n",
              "          const docLink = document.createElement('div');\n",
              "          docLink.innerHTML = docLinkHtml;\n",
              "          element.appendChild(docLink);\n",
              "        }\n",
              "      </script>\n",
              "    </div>\n",
              "  </div>\n",
              "  "
            ]
          },
          "metadata": {},
          "execution_count": 8
        }
      ],
      "source": [
        "df.dropna(inplace=True, axis=1)\n",
        "df.reset_index(drop=True)\n",
        "df['message'].replace(['policy','attack','support','information','mobilization','personal','constituency','media','other'],[1,2,3,4,5,6,7,8,0],inplace=True)\n",
        "df['bias'].replace(['partisan','neutral'],[1,2],inplace=True)\n",
        "df['bias'].replace(['twitter','facebook'],[1,2],inplace=True)\n",
        "df['audience'].replace(['national','constituency'],[1,2],inplace=True)\n",
        "df.head()"
      ]
    },
    {
      "cell_type": "code",
      "execution_count": null,
      "metadata": {
        "colab": {
          "base_uri": "https://localhost:8080/",
          "height": 206
        },
        "id": "81v4FJ4yXM87",
        "outputId": "ef8e7ccc-eb7b-468b-d656-d770e9fe76de"
      },
      "outputs": [
        {
          "output_type": "execute_result",
          "data": {
            "text/plain": [
              "   _trusted_judgments  audience  bias  message   source  \\\n",
              "0                   1         1     1        1  twitter   \n",
              "1                   1         1     1        2  twitter   \n",
              "2                   1         1     2        3  twitter   \n",
              "3                   1         1     2        1  twitter   \n",
              "4                   1         1     1        1  twitter   \n",
              "\n",
              "                                                text  \n",
              "0  RT @nowthisnews: Rep. Trey Radel (R- #FL) slam...  \n",
              "1  VIDEO - #Obamacare:  Full of Higher Costs and ...  \n",
              "2  Please join me today in remembering our fallen...  \n",
              "3  RT @SenatorLeahy: 1st step toward Senate debat...  \n",
              "4  .@amazon delivery #drones show need to update ...  "
            ],
            "text/html": [
              "\n",
              "  <div id=\"df-53ccaea9-2795-4df7-8d01-723345a748c1\">\n",
              "    <div class=\"colab-df-container\">\n",
              "      <div>\n",
              "<style scoped>\n",
              "    .dataframe tbody tr th:only-of-type {\n",
              "        vertical-align: middle;\n",
              "    }\n",
              "\n",
              "    .dataframe tbody tr th {\n",
              "        vertical-align: top;\n",
              "    }\n",
              "\n",
              "    .dataframe thead th {\n",
              "        text-align: right;\n",
              "    }\n",
              "</style>\n",
              "<table border=\"1\" class=\"dataframe\">\n",
              "  <thead>\n",
              "    <tr style=\"text-align: right;\">\n",
              "      <th></th>\n",
              "      <th>_trusted_judgments</th>\n",
              "      <th>audience</th>\n",
              "      <th>bias</th>\n",
              "      <th>message</th>\n",
              "      <th>source</th>\n",
              "      <th>text</th>\n",
              "    </tr>\n",
              "  </thead>\n",
              "  <tbody>\n",
              "    <tr>\n",
              "      <th>0</th>\n",
              "      <td>1</td>\n",
              "      <td>1</td>\n",
              "      <td>1</td>\n",
              "      <td>1</td>\n",
              "      <td>twitter</td>\n",
              "      <td>RT @nowthisnews: Rep. Trey Radel (R- #FL) slam...</td>\n",
              "    </tr>\n",
              "    <tr>\n",
              "      <th>1</th>\n",
              "      <td>1</td>\n",
              "      <td>1</td>\n",
              "      <td>1</td>\n",
              "      <td>2</td>\n",
              "      <td>twitter</td>\n",
              "      <td>VIDEO - #Obamacare:  Full of Higher Costs and ...</td>\n",
              "    </tr>\n",
              "    <tr>\n",
              "      <th>2</th>\n",
              "      <td>1</td>\n",
              "      <td>1</td>\n",
              "      <td>2</td>\n",
              "      <td>3</td>\n",
              "      <td>twitter</td>\n",
              "      <td>Please join me today in remembering our fallen...</td>\n",
              "    </tr>\n",
              "    <tr>\n",
              "      <th>3</th>\n",
              "      <td>1</td>\n",
              "      <td>1</td>\n",
              "      <td>2</td>\n",
              "      <td>1</td>\n",
              "      <td>twitter</td>\n",
              "      <td>RT @SenatorLeahy: 1st step toward Senate debat...</td>\n",
              "    </tr>\n",
              "    <tr>\n",
              "      <th>4</th>\n",
              "      <td>1</td>\n",
              "      <td>1</td>\n",
              "      <td>1</td>\n",
              "      <td>1</td>\n",
              "      <td>twitter</td>\n",
              "      <td>.@amazon delivery #drones show need to update ...</td>\n",
              "    </tr>\n",
              "  </tbody>\n",
              "</table>\n",
              "</div>\n",
              "      <button class=\"colab-df-convert\" onclick=\"convertToInteractive('df-53ccaea9-2795-4df7-8d01-723345a748c1')\"\n",
              "              title=\"Convert this dataframe to an interactive table.\"\n",
              "              style=\"display:none;\">\n",
              "        \n",
              "  <svg xmlns=\"http://www.w3.org/2000/svg\" height=\"24px\"viewBox=\"0 0 24 24\"\n",
              "       width=\"24px\">\n",
              "    <path d=\"M0 0h24v24H0V0z\" fill=\"none\"/>\n",
              "    <path d=\"M18.56 5.44l.94 2.06.94-2.06 2.06-.94-2.06-.94-.94-2.06-.94 2.06-2.06.94zm-11 1L8.5 8.5l.94-2.06 2.06-.94-2.06-.94L8.5 2.5l-.94 2.06-2.06.94zm10 10l.94 2.06.94-2.06 2.06-.94-2.06-.94-.94-2.06-.94 2.06-2.06.94z\"/><path d=\"M17.41 7.96l-1.37-1.37c-.4-.4-.92-.59-1.43-.59-.52 0-1.04.2-1.43.59L10.3 9.45l-7.72 7.72c-.78.78-.78 2.05 0 2.83L4 21.41c.39.39.9.59 1.41.59.51 0 1.02-.2 1.41-.59l7.78-7.78 2.81-2.81c.8-.78.8-2.07 0-2.86zM5.41 20L4 18.59l7.72-7.72 1.47 1.35L5.41 20z\"/>\n",
              "  </svg>\n",
              "      </button>\n",
              "      \n",
              "  <style>\n",
              "    .colab-df-container {\n",
              "      display:flex;\n",
              "      flex-wrap:wrap;\n",
              "      gap: 12px;\n",
              "    }\n",
              "\n",
              "    .colab-df-convert {\n",
              "      background-color: #E8F0FE;\n",
              "      border: none;\n",
              "      border-radius: 50%;\n",
              "      cursor: pointer;\n",
              "      display: none;\n",
              "      fill: #1967D2;\n",
              "      height: 32px;\n",
              "      padding: 0 0 0 0;\n",
              "      width: 32px;\n",
              "    }\n",
              "\n",
              "    .colab-df-convert:hover {\n",
              "      background-color: #E2EBFA;\n",
              "      box-shadow: 0px 1px 2px rgba(60, 64, 67, 0.3), 0px 1px 3px 1px rgba(60, 64, 67, 0.15);\n",
              "      fill: #174EA6;\n",
              "    }\n",
              "\n",
              "    [theme=dark] .colab-df-convert {\n",
              "      background-color: #3B4455;\n",
              "      fill: #D2E3FC;\n",
              "    }\n",
              "\n",
              "    [theme=dark] .colab-df-convert:hover {\n",
              "      background-color: #434B5C;\n",
              "      box-shadow: 0px 1px 3px 1px rgba(0, 0, 0, 0.15);\n",
              "      filter: drop-shadow(0px 1px 2px rgba(0, 0, 0, 0.3));\n",
              "      fill: #FFFFFF;\n",
              "    }\n",
              "  </style>\n",
              "\n",
              "      <script>\n",
              "        const buttonEl =\n",
              "          document.querySelector('#df-53ccaea9-2795-4df7-8d01-723345a748c1 button.colab-df-convert');\n",
              "        buttonEl.style.display =\n",
              "          google.colab.kernel.accessAllowed ? 'block' : 'none';\n",
              "\n",
              "        async function convertToInteractive(key) {\n",
              "          const element = document.querySelector('#df-53ccaea9-2795-4df7-8d01-723345a748c1');\n",
              "          const dataTable =\n",
              "            await google.colab.kernel.invokeFunction('convertToInteractive',\n",
              "                                                     [key], {});\n",
              "          if (!dataTable) return;\n",
              "\n",
              "          const docLinkHtml = 'Like what you see? Visit the ' +\n",
              "            '<a target=\"_blank\" href=https://colab.research.google.com/notebooks/data_table.ipynb>data table notebook</a>'\n",
              "            + ' to learn more about interactive tables.';\n",
              "          element.innerHTML = '';\n",
              "          dataTable['output_type'] = 'display_data';\n",
              "          await google.colab.output.renderOutput(dataTable, element);\n",
              "          const docLink = document.createElement('div');\n",
              "          docLink.innerHTML = docLinkHtml;\n",
              "          element.appendChild(docLink);\n",
              "        }\n",
              "      </script>\n",
              "    </div>\n",
              "  </div>\n",
              "  "
            ]
          },
          "metadata": {},
          "execution_count": 9
        }
      ],
      "source": [
        "df.drop(columns=[\"_unit_id\",\"_golden\",\"_unit_state\",\"_last_judgment_at\",\"audience:confidence\",\"bias:confidence\",\"message:confidence\",\"bioid\",\"embed\",\"id\",\"label\"], inplace=True)\n",
        "df.head()"
      ]
    },
    {
      "cell_type": "code",
      "execution_count": null,
      "metadata": {
        "colab": {
          "base_uri": "https://localhost:8080/"
        },
        "id": "MP_xe6ykZM5Q",
        "outputId": "b664a3ec-79b1-4603-fbbd-29e78b5030e0"
      },
      "outputs": [
        {
          "output_type": "execute_result",
          "data": {
            "text/plain": [
              "(5000, 6)"
            ]
          },
          "metadata": {},
          "execution_count": 10
        }
      ],
      "source": [
        "df.shape"
      ]
    },
    {
      "cell_type": "code",
      "execution_count": null,
      "metadata": {
        "colab": {
          "base_uri": "https://localhost:8080/"
        },
        "id": "4QuZnFDMZNsi",
        "outputId": "c7098988-75ea-41e4-e843-3967e6606e1f"
      },
      "outputs": [
        {
          "output_type": "execute_result",
          "data": {
            "text/plain": [
              "Index(['_trusted_judgments', 'audience', 'bias', 'message', 'source', 'text'], dtype='object')"
            ]
          },
          "metadata": {},
          "execution_count": 11
        }
      ],
      "source": [
        "df.columns"
      ]
    },
    {
      "cell_type": "code",
      "execution_count": null,
      "metadata": {
        "colab": {
          "base_uri": "https://localhost:8080/"
        },
        "id": "ZADexx5nZPir",
        "outputId": "ba7bf08c-d489-4d90-f94d-6dcd98da7e9f"
      },
      "outputs": [
        {
          "output_type": "execute_result",
          "data": {
            "text/plain": [
              "_trusted_judgments     int64\n",
              "audience               int64\n",
              "bias                   int64\n",
              "message                int64\n",
              "source                object\n",
              "text                  object\n",
              "dtype: object"
            ]
          },
          "metadata": {},
          "execution_count": 12
        }
      ],
      "source": [
        "df.dtypes"
      ]
    },
    {
      "cell_type": "code",
      "execution_count": null,
      "metadata": {
        "colab": {
          "base_uri": "https://localhost:8080/"
        },
        "id": "TZ_omQqZZWz0",
        "outputId": "7214e860-4b6e-4d57-b0e5-d5139a0b45f3"
      },
      "outputs": [
        {
          "output_type": "stream",
          "name": "stdout",
          "text": [
            "  (0, 552)\t0.15342295814081838\n",
            "  (0, 1349)\t0.37698388198465016\n",
            "  (0, 2025)\t0.46060506139401586\n",
            "  (0, 1854)\t0.3044673590069145\n",
            "  (0, 1087)\t0.5473391608862196\n",
            "  (0, 2236)\t0.36841755250729313\n",
            "  (0, 2307)\t0.3068802752240335\n",
            "  (1, 1348)\t0.12118378144591152\n",
            "  (1, 2100)\t0.44572468201220594\n",
            "  (1, 407)\t0.4135549568954739\n",
            "  (1, 206)\t0.12952380554197554\n",
            "  (1, 666)\t0.36588024533906194\n",
            "  (1, 1297)\t0.3700624214457812\n",
            "  (1, 1859)\t0.126937618810559\n",
            "  (1, 1143)\t0.32809164376736016\n",
            "  (1, 2835)\t0.3378301166635448\n",
            "  (1, 552)\t0.1351047091104849\n",
            "  (1, 1854)\t0.2681148536747105\n",
            "  (2, 2319)\t0.30140492316534834\n",
            "  (2, 2657)\t0.15820987890894567\n",
            "  (2, 1103)\t0.09765154435755\n",
            "  (2, 2403)\t0.19731163470156696\n",
            "  (2, 1731)\t0.22334410206999084\n",
            "  (2, 714)\t0.2805441727533909\n",
            "  (2, 2938)\t0.20763815831393995\n",
            "  :\t:\n",
            "  (4999, 2454)\t0.22287664509796004\n",
            "  (4999, 1447)\t0.26070453186342735\n",
            "  (4999, 1598)\t0.230152529912108\n",
            "  (4999, 2837)\t0.23223998274048627\n",
            "  (4999, 807)\t0.2421455745251495\n",
            "  (4999, 584)\t0.16229283882117385\n",
            "  (4999, 1108)\t0.21059546134408907\n",
            "  (4999, 2223)\t0.21176277402681543\n",
            "  (4999, 507)\t0.17393488726134815\n",
            "  (4999, 189)\t0.19441209597501896\n",
            "  (4999, 191)\t0.14685842162665472\n",
            "  (4999, 1278)\t0.3268813853165761\n",
            "  (4999, 2594)\t0.20068986955942583\n",
            "  (4999, 1276)\t0.17769488384424528\n",
            "  (4999, 428)\t0.14214812417009473\n",
            "  (4999, 1291)\t0.12446495205570657\n",
            "  (4999, 2471)\t0.16145638247237024\n",
            "  (4999, 1476)\t0.10126313546996606\n",
            "  (4999, 2669)\t0.09027185291191289\n",
            "  (4999, 1913)\t0.1349396878131545\n",
            "  (4999, 2696)\t0.10486470245533286\n",
            "  (4999, 1880)\t0.15688640620673547\n",
            "  (4999, 1731)\t0.1705453566999537\n",
            "  (4999, 2654)\t0.05243235122766643\n",
            "  (4999, 1859)\t0.0674488684355435\n"
          ]
        }
      ],
      "source": [
        "from sklearn.feature_extraction.text import TfidfVectorizer\n",
        "from sklearn.feature_selection import SelectKBest, chi2,f_classif, mutual_info_classif\n",
        "\n",
        "df_text_final=df['text']\n",
        "vectorizer = TfidfVectorizer(min_df=3,analyzer='word',max_features=3000)\n",
        "df_text=vectorizer.fit_transform(df_text_final)\n",
        "print(df_text)"
      ]
    },
    {
      "cell_type": "code",
      "execution_count": null,
      "metadata": {
        "colab": {
          "base_uri": "https://localhost:8080/",
          "height": 214
        },
        "id": "l5LTBfrlZhIq",
        "outputId": "e99fe716-403f-4874-e4c1-4b4615379e8b"
      },
      "outputs": [
        {
          "output_type": "execute_result",
          "data": {
            "text/plain": [
              "<seaborn.axisgrid.PairGrid at 0x7f31bd27ac10>"
            ]
          },
          "metadata": {},
          "execution_count": 14
        },
        {
          "output_type": "display_data",
          "data": {
            "text/plain": [
              "<Figure size 720x180 with 5 Axes>"
            ],
            "image/png": "[encoded data removed]"
          },
          "metadata": {
            "needs_background": "light"
          }
        }
      ],
      "source": [
        "sns.pairplot(df, y_vars=['bias'])"
      ]
    },
    {
      "cell_type": "code",
      "execution_count": null,
      "metadata": {
        "colab": {
          "base_uri": "https://localhost:8080/",
          "height": 214
        },
        "id": "VXnHkr88ZnZi",
        "outputId": "ecb39cab-af65-4479-de84-b30a28781969"
      },
      "outputs": [
        {
          "output_type": "execute_result",
          "data": {
            "text/plain": [
              "<seaborn.axisgrid.PairGrid at 0x7f31bd48c610>"
            ]
          },
          "metadata": {},
          "execution_count": 15
        },
        {
          "output_type": "display_data",
          "data": {
            "text/plain": [
              "<Figure size 720x180 with 5 Axes>"
            ],
            "image/png": "[encoded data removed]"
          },
          "metadata": {
            "needs_background": "light"
          }
        }
      ],
      "source": [
        "sns.pairplot(df, y_vars=['message'])"
      ]
    },
    {
      "cell_type": "code",
      "execution_count": null,
      "metadata": {
        "colab": {
          "base_uri": "https://localhost:8080/",
          "height": 1000
        },
        "id": "hcs-XK4sZrmY",
        "outputId": "9d8d2542-7fcb-47e6-c4ad-762d1485e05d"
      },
      "outputs": [
        {
          "output_type": "execute_result",
          "data": {
            "text/plain": [
              "<matplotlib.axes._subplots.AxesSubplot at 0x7f31bd4eae10>"
            ]
          },
          "metadata": {},
          "execution_count": 16
        },
        {
          "output_type": "display_data",
          "data": {
            "text/plain": [
              "<Figure size 1440x1440 with 2 Axes>"
            ],
            "image/png": "[encoded data removed]"
          },
          "metadata": {
            "needs_background": "light"
          }
        }
      ],
      "source": [
        "%matplotlib inline\n",
        "corrmat = df.corr()\n",
        "top_corr_features = corrmat.index\n",
        "plt.figure(figsize=(20,20))\n",
        "sns.heatmap(df[top_corr_features].corr(), annot=True, cmap='RdYlGn')"
      ]
    },
    {
      "cell_type": "code",
      "execution_count": null,
      "metadata": {
        "colab": {
          "base_uri": "https://localhost:8080/"
        },
        "id": "xVqt6JskZxW8",
        "outputId": "2b657470-0314-42cc-892b-7b7f685f145a"
      },
      "outputs": [
        {
          "output_type": "stream",
          "name": "stdout",
          "text": [
            "0       RT @nowthisnews: Rep. Trey Radel (R- #FL) slam...\n",
            "1       VIDEO - #Obamacare:  Full of Higher Costs and ...\n",
            "2       Please join me today in remembering our fallen...\n",
            "3       RT @SenatorLeahy: 1st step toward Senate debat...\n",
            "4       .@amazon delivery #drones show need to update ...\n",
            "                              ...                        \n",
            "4995    I applaud Governor PerryÛªs recent decision t...\n",
            "4996    Today, I voted in favor of H.R. 5016 - Financi...\n",
            "4997    (Taken from posted WOKV interview)   Congressm...\n",
            "4998    Join me next week for a town hall in Ocala! I'...\n",
            "4999    Foreign Affairs Committee Hearing on Syria. I ...\n",
            "Name: text, Length: 5000, dtype: object\n",
            "      _trusted_judgments  audience  bias  message    source  \\\n",
            "0                      1         1     1        1   twitter   \n",
            "1                      1         1     1        2   twitter   \n",
            "2                      1         1     2        3   twitter   \n",
            "3                      1         1     2        1   twitter   \n",
            "4                      1         1     1        1   twitter   \n",
            "...                  ...       ...   ...      ...       ...   \n",
            "4995                   1         1     1        3  facebook   \n",
            "4996                   1         1     1        1  facebook   \n",
            "4997                   1         1     2        1  facebook   \n",
            "4998                   1         1     2        8  facebook   \n",
            "4999                   1         1     2        3  facebook   \n",
            "\n",
            "                                                   text  \n",
            "0     RT @nowthisnews: Rep. Trey Radel (R- #FL) slam...  \n",
            "1     VIDEO - #Obamacare:  Full of Higher Costs and ...  \n",
            "2     Please join me today in remembering our fallen...  \n",
            "3     RT @SenatorLeahy: 1st step toward Senate debat...  \n",
            "4     .@amazon delivery #drones show need to update ...  \n",
            "...                                                 ...  \n",
            "4995  I applaud Governor PerryÛªs recent decision t...  \n",
            "4996  Today, I voted in favor of H.R. 5016 - Financi...  \n",
            "4997  (Taken from posted WOKV interview)   Congressm...  \n",
            "4998  Join me next week for a town hall in Ocala! I'...  \n",
            "4999  Foreign Affairs Committee Hearing on Syria. I ...  \n",
            "\n",
            "[5000 rows x 6 columns]\n",
            "[[1]\n",
            " [2]\n",
            " [3]\n",
            " ...\n",
            " [1]\n",
            " [8]\n",
            " [3]]\n"
          ]
        }
      ],
      "source": [
        "print(df['text'])\n",
        "X = df.iloc[:]\n",
        "y = df.iloc[:, [3]].values\n",
        "print(X)\n",
        "print(y)\n",
        "\n",
        "from sklearn.model_selection import train_test_split\n",
        "X_train, X_test, y_train, y_test = train_test_split((df_text),y,test_size=0.2, random_state = 42)"
      ]
    },
    {
      "cell_type": "code",
      "execution_count": null,
      "metadata": {
        "colab": {
          "base_uri": "https://localhost:8080/"
        },
        "id": "j8BeXerUaHM1",
        "outputId": "64b7b631-f8d9-4e87-9b40-46e95e3beff9"
      },
      "outputs": [
        {
          "output_type": "stream",
          "name": "stdout",
          "text": [
            "Fitting 3 folds for each of 2 candidates, totalling 6 fits\n",
            "0.9895\n"
          ]
        }
      ],
      "source": [
        "from sklearn.tree import DecisionTreeClassifier\n",
        "from sklearn.ensemble import RandomForestClassifier\n",
        "from sklearn.model_selection import GridSearchCV\n",
        "from sklearn.metrics import classification_report, confusion_matrix, accuracy_score\n",
        "\n",
        "\n",
        "rf=RandomForestClassifier(n_estimators=10)\n",
        "param_grid = {\n",
        "    'bootstrap': [True, False],\n",
        "    'max_depth': [128],\n",
        "    'max_features': [7],\n",
        "    'min_samples_leaf': [8],\n",
        "    'min_samples_split': [8],\n",
        "    'n_estimators': [1000]\n",
        "}\n",
        "\n",
        "grid_search = GridSearchCV(estimator = rf, param_grid = param_grid, \n",
        "                          cv = 3, n_jobs = 4, verbose = 3)\n",
        "grid_search.fit(X_train,y_train)\n",
        "#print(grid_search.score(X_test,y_test))\n",
        "rf.fit(X_train,y_train)\n",
        "\n",
        "y_train_pred=rf.predict(X_train)\n",
        "\n",
        "print(accuracy_score(y_train, y_train_pred))"
      ]
    },
    {
      "cell_type": "code",
      "execution_count": null,
      "metadata": {
        "colab": {
          "base_uri": "https://localhost:8080/"
        },
        "id": "gqxoDR3YaLrv",
        "outputId": "b9da6063-bff4-464e-c07a-61a979bf8926"
      },
      "outputs": [
        {
          "output_type": "stream",
          "name": "stdout",
          "text": [
            "      _trusted_judgments  audience  bias  message    source  \\\n",
            "0                      1         1     1        1   twitter   \n",
            "1                      1         1     1        2   twitter   \n",
            "2                      1         1     2        3   twitter   \n",
            "3                      1         1     2        1   twitter   \n",
            "4                      1         1     1        1   twitter   \n",
            "...                  ...       ...   ...      ...       ...   \n",
            "4995                   1         1     1        3  facebook   \n",
            "4996                   1         1     1        1  facebook   \n",
            "4997                   1         1     2        1  facebook   \n",
            "4998                   1         1     2        8  facebook   \n",
            "4999                   1         1     2        3  facebook   \n",
            "\n",
            "                                                   text  \n",
            "0     RT @nowthisnews: Rep. Trey Radel (R- #FL) slam...  \n",
            "1     VIDEO - #Obamacare:  Full of Higher Costs and ...  \n",
            "2     Please join me today in remembering our fallen...  \n",
            "3     RT @SenatorLeahy: 1st step toward Senate debat...  \n",
            "4     .@amazon delivery #drones show need to update ...  \n",
            "...                                                 ...  \n",
            "4995  I applaud Governor PerryÛªs recent decision t...  \n",
            "4996  Today, I voted in favor of H.R. 5016 - Financi...  \n",
            "4997  (Taken from posted WOKV interview)   Congressm...  \n",
            "4998  Join me next week for a town hall in Ocala! I'...  \n",
            "4999  Foreign Affairs Committee Hearing on Syria. I ...  \n",
            "\n",
            "[5000 rows x 6 columns]\n",
            "[[1]\n",
            " [1]\n",
            " [2]\n",
            " ...\n",
            " [2]\n",
            " [2]\n",
            " [2]]\n"
          ]
        }
      ],
      "source": [
        "X = df.iloc[:]\n",
        "y = df.iloc[:, [2]].values\n",
        "print(X)\n",
        "print(y)\n",
        "\n",
        "from sklearn.model_selection import train_test_split\n",
        "X_train, X_test, y_train, y_test = train_test_split((df_text),y,test_size=0.2, random_state = 42)"
      ]
    },
    {
      "cell_type": "code",
      "execution_count": null,
      "metadata": {
        "colab": {
          "base_uri": "https://localhost:8080/"
        },
        "id": "3eAd5heCaYwr",
        "outputId": "85f64df4-dacc-47fa-ccc5-258b39e9e22c"
      },
      "outputs": [
        {
          "output_type": "stream",
          "name": "stdout",
          "text": [
            "0.683\n"
          ]
        }
      ],
      "source": [
        "from sklearn.tree import DecisionTreeClassifier\n",
        "from sklearn.ensemble import RandomForestClassifier\n",
        "from sklearn.model_selection import GridSearchCV\n",
        "from sklearn.metrics import classification_report, confusion_matrix, accuracy_score\n",
        "from sklearn.tree import DecisionTreeClassifier\n",
        "\n",
        "\n",
        "rf=DecisionTreeClassifier()\n",
        "\n",
        "rf.fit(X_train,y_train)\n",
        "\n",
        "y_train_pred=rf.predict(X_test)\n",
        "\n",
        "print(accuracy_score(y_test, y_train_pred))"
      ]
    },
    {
      "cell_type": "code",
      "source": [
        "from sklearn.naive_bayes import GaussianNB\n",
        "from sklearn.neighbors import KNeighborsClassifier\n",
        "rf=KNeighborsClassifier()\n",
        "rf.fit(X_train,y_train)\n",
        "\n",
        "y_train_pred=rf.predict(X_test)\n",
        "\n",
        "print(accuracy_score(y_test, y_train_pred))"
      ],
      "metadata": {
        "colab": {
          "base_uri": "https://localhost:8080/"
        },
        "id": "VuuhTa7O1X6_",
        "outputId": "0a7e269b-ade2-4195-87bd-ccae7f5cb780"
      },
      "execution_count": null,
      "outputs": [
        {
          "output_type": "stream",
          "name": "stdout",
          "text": [
            "0.749\n"
          ]
        }
      ]
    },
    {
      "cell_type": "code",
      "source": [
        "from sklearn.svm import SVC\n",
        "rf=SVC()\n",
        "rf.fit(X_train,y_train)\n",
        "\n",
        "y_train_pred=rf.predict(X_test)\n",
        "\n",
        "print(accuracy_score(y_test, y_train_pred))"
      ],
      "metadata": {
        "colab": {
          "base_uri": "https://localhost:8080/"
        },
        "id": "e62fFEq42iZ5",
        "outputId": "5c1f9bf1-7367-40a0-d410-07df38e59b99"
      },
      "execution_count": null,
      "outputs": [
        {
          "output_type": "stream",
          "name": "stdout",
          "text": [
            "0.785\n"
          ]
        }
      ]
    }
  ],
  "metadata": {
    "colab": {
      "name": "DV_Project",
      "provenance": [],
      "authorship_tag": "ABX9TyMh9HQbaTGNmuKgfhczpyp4",
      "include_colab_link": true
    },
    "kernelspec": {
      "display_name": "Python 3",
      "name": "python3"
    },
    "language_info": {
      "name": "python"
    }
  },
  "nbformat": 4,
  "nbformat_minor": 0
}